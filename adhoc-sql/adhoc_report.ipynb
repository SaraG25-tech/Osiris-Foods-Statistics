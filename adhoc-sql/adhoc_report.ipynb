{
 "cells": [
  {
   "cell_type": "markdown",
   "id": "646c4e05",
   "metadata": {},
   "source": [
    "# Ad-Hoc Reporting\n",
    "\n",
    "Utilize your `sqlite3` and `pandas` knowledge to query your database and generate visualizations! \n",
    "\n",
    "After completing your report, answer the 4 analytical questions below. Remember that we expect comprehensive numerical detail! "
   ]
  },
  {
   "cell_type": "code",
   "execution_count": 3,
   "id": "bb47ec90",
   "metadata": {},
   "outputs": [],
   "source": [
    "import sqlite3\n",
    "\n",
    "import pandas as pd \n",
    "\n",
    "import seaborn as sns\n",
    "import matplotlib.pyplot as plt"
   ]
  },
  {
   "cell_type": "code",
   "execution_count": 12,
   "id": "c27a1dbe",
   "metadata": {},
   "outputs": [
    {
     "data": {
      "text/plain": [
       "<sqlite3.Cursor at 0x2b14f3d5540>"
      ]
     },
     "execution_count": 12,
     "metadata": {},
     "output_type": "execute_result"
    }
   ],
   "source": [
    "# TODO: Set up a connection the \"Market.db\" database\n",
    "connection = sqlite3.connect(\"db/Market.db\")\n",
    "\n",
    "# TODO: Set up the cursor\n",
    "cursor = connection.cursor()\n",
    "#cursor.execute(\"SELECT name FROM sqlite_master WHERE type='table';\")\n",
    "#tables = cursor.fetchall()\n",
    "cursor.execute(\"SELECT* FROM Products;\")"
   ]
  },
  {
   "cell_type": "code",
   "execution_count": null,
   "id": "dfa76ff7",
   "metadata": {},
   "outputs": [
    {
     "name": "stdout",
     "output_type": "stream",
     "text": [
      "ProductID\n",
      "ProductName\n",
      "SupplierID\n",
      "CategoryID\n",
      "Unit\n",
      "Price\n"
     ]
    }
   ],
   "source": [
    "rows = cursor.fetchall()\n",
    "headers = cursor.description\n",
    "header_list = []\n",
    "for header in headers:\n",
    "    header_list.append(header[0])\n",
    "    print(header[0])\n",
    "\n"
   ]
  },
  {
   "cell_type": "code",
   "execution_count": 20,
   "id": "284894e0",
   "metadata": {},
   "outputs": [
    {
     "name": "stdout",
     "output_type": "stream",
     "text": [
      "['ProductID', 'ProductName', 'SupplierID', 'CategoryID', 'Unit', 'Price']\n"
     ]
    }
   ],
   "source": [
    "print(header_list)"
   ]
  },
  {
   "cell_type": "markdown",
   "id": "bdda1f0a",
   "metadata": {},
   "source": [
    "### Question 1 : Total Products Less than €10\n",
    "\n",
    "How many products in our Products table cost less than 10 EUR?\n",
    "\n",
    "**Hint**: You can apply an aggregate function to an entire table."
   ]
  },
  {
   "cell_type": "code",
   "execution_count": 5,
   "id": "736830a8",
   "metadata": {},
   "outputs": [
    {
     "name": "stdout",
     "output_type": "stream",
     "text": [
      "[(11,)]\n"
     ]
    }
   ],
   "source": [
    "# TODO: Write a SQL query which will answer the question above.\n",
    "cursor.execute(\"\"\"\n",
    "    SELECT COUNT(*) AS price_under_10\n",
    "    FROM Products\n",
    "    WHERE price < 10\n",
    "\"\"\")\n",
    "\n",
    "rows = cursor.fetchall()\n",
    "print(rows)"
   ]
  },
  {
   "cell_type": "markdown",
   "id": "a12866fc",
   "metadata": {},
   "source": [
    "### Question 2 : Most Frequent Country by Supplier\n",
    "\n",
    "What is the most common country of origin in our Suppliers table? Sort your output in descending order.\n",
    "\n",
    "**Hint**: `GROUP BY` can be used to calculate grouped aggregates."
   ]
  },
  {
   "cell_type": "code",
   "execution_count": 6,
   "id": "1e03d56e",
   "metadata": {},
   "outputs": [
    {
     "name": "stdout",
     "output_type": "stream",
     "text": [
      "[('USA', 4), ('Germany', 3), ('France', 3), ('UK', 2), ('Sweden', 2), ('Japan', 2), ('Italy', 2), ('Canada', 2), ('Australia', 2), ('Spain', 1), ('Singapore', 1), ('Norway', 1), ('Netherlands', 1), ('Finland', 1), ('Denmark', 1), ('Brazil', 1)]\n"
     ]
    }
   ],
   "source": [
    "# TODO: Write a SQL query which will answer the question above.\n",
    "cursor.execute(\"\"\"\n",
    "    SELECT Country, COUNT(*) AS supplier_count\n",
    "    FROM Suppliers \n",
    "    GROUP BY Country \n",
    "    ORDER BY supplier_count DESC;\n",
    "\"\"\")\n",
    "\n",
    "# TODO: Fetch your list of tuples and print it out\n",
    "rows = cursor.fetchall()\n",
    "print(rows)"
   ]
  },
  {
   "cell_type": "code",
   "execution_count": 7,
   "id": "34b0e906",
   "metadata": {},
   "outputs": [
    {
     "name": "stdout",
     "output_type": "stream",
     "text": [
      "<class 'list'>\n"
     ]
    }
   ],
   "source": [
    "print(type(rows))"
   ]
  },
  {
   "cell_type": "code",
   "execution_count": null,
   "id": "83f583d6",
   "metadata": {},
   "outputs": [
    {
     "ename": "ValueError",
     "evalue": "1 columns passed, passed data had 2 columns",
     "output_type": "error",
     "traceback": [
      "\u001b[1;31m---------------------------------------------------------------------------\u001b[0m",
      "\u001b[1;31mAssertionError\u001b[0m                            Traceback (most recent call last)",
      "File \u001b[1;32mc:\\Users\\Sara\\miniconda3\\envs\\ds\\Lib\\site-packages\\pandas\\core\\internals\\construction.py:939\u001b[0m, in \u001b[0;36m_finalize_columns_and_data\u001b[1;34m(content, columns, dtype)\u001b[0m\n\u001b[0;32m    938\u001b[0m \u001b[38;5;28;01mtry\u001b[39;00m:\n\u001b[1;32m--> 939\u001b[0m     columns \u001b[38;5;241m=\u001b[39m _validate_or_indexify_columns(contents, columns)\n\u001b[0;32m    940\u001b[0m \u001b[38;5;28;01mexcept\u001b[39;00m \u001b[38;5;167;01mAssertionError\u001b[39;00m \u001b[38;5;28;01mas\u001b[39;00m err:\n\u001b[0;32m    941\u001b[0m     \u001b[38;5;66;03m# GH#26429 do not raise user-facing AssertionError\u001b[39;00m\n",
      "File \u001b[1;32mc:\\Users\\Sara\\miniconda3\\envs\\ds\\Lib\\site-packages\\pandas\\core\\internals\\construction.py:986\u001b[0m, in \u001b[0;36m_validate_or_indexify_columns\u001b[1;34m(content, columns)\u001b[0m\n\u001b[0;32m    984\u001b[0m \u001b[38;5;28;01mif\u001b[39;00m \u001b[38;5;129;01mnot\u001b[39;00m is_mi_list \u001b[38;5;129;01mand\u001b[39;00m \u001b[38;5;28mlen\u001b[39m(columns) \u001b[38;5;241m!=\u001b[39m \u001b[38;5;28mlen\u001b[39m(content):  \u001b[38;5;66;03m# pragma: no cover\u001b[39;00m\n\u001b[0;32m    985\u001b[0m     \u001b[38;5;66;03m# caller's responsibility to check for this...\u001b[39;00m\n\u001b[1;32m--> 986\u001b[0m     \u001b[38;5;28;01mraise\u001b[39;00m \u001b[38;5;167;01mAssertionError\u001b[39;00m(\n\u001b[0;32m    987\u001b[0m         \u001b[38;5;124mf\u001b[39m\u001b[38;5;124m\"\u001b[39m\u001b[38;5;132;01m{\u001b[39;00m\u001b[38;5;28mlen\u001b[39m(columns)\u001b[38;5;132;01m}\u001b[39;00m\u001b[38;5;124m columns passed, passed data had \u001b[39m\u001b[38;5;124m\"\u001b[39m\n\u001b[0;32m    988\u001b[0m         \u001b[38;5;124mf\u001b[39m\u001b[38;5;124m\"\u001b[39m\u001b[38;5;132;01m{\u001b[39;00m\u001b[38;5;28mlen\u001b[39m(content)\u001b[38;5;132;01m}\u001b[39;00m\u001b[38;5;124m columns\u001b[39m\u001b[38;5;124m\"\u001b[39m\n\u001b[0;32m    989\u001b[0m     )\n\u001b[0;32m    990\u001b[0m \u001b[38;5;28;01mif\u001b[39;00m is_mi_list:\n\u001b[0;32m    991\u001b[0m     \u001b[38;5;66;03m# check if nested list column, length of each sub-list should be equal\u001b[39;00m\n",
      "\u001b[1;31mAssertionError\u001b[0m: 1 columns passed, passed data had 2 columns",
      "\nThe above exception was the direct cause of the following exception:\n",
      "\u001b[1;31mValueError\u001b[0m                                Traceback (most recent call last)",
      "Cell \u001b[1;32mIn[18], line 2\u001b[0m\n\u001b[0;32m      1\u001b[0m \u001b[38;5;66;03m# TODO: Convert your list of tuples to a dataframe\u001b[39;00m\n\u001b[1;32m----> 2\u001b[0m df \u001b[38;5;241m=\u001b[39m pd\u001b[38;5;241m.\u001b[39mDataFrame(rows, columns\u001b[38;5;241m=\u001b[39m[\u001b[38;5;124m'\u001b[39m\u001b[38;5;124mCountry\u001b[39m\u001b[38;5;124m'\u001b[39m])\n\u001b[0;32m      4\u001b[0m \u001b[38;5;66;03m# TODO: Generate a visualization on this dataframe\u001b[39;00m\n\u001b[0;32m      5\u001b[0m \u001b[38;5;241m.\u001b[39m\u001b[38;5;241m.\u001b[39m\u001b[38;5;241m.\u001b[39m\n",
      "File \u001b[1;32mc:\\Users\\Sara\\miniconda3\\envs\\ds\\Lib\\site-packages\\pandas\\core\\frame.py:851\u001b[0m, in \u001b[0;36mDataFrame.__init__\u001b[1;34m(self, data, index, columns, dtype, copy)\u001b[0m\n\u001b[0;32m    849\u001b[0m     \u001b[38;5;28;01mif\u001b[39;00m columns \u001b[38;5;129;01mis\u001b[39;00m \u001b[38;5;129;01mnot\u001b[39;00m \u001b[38;5;28;01mNone\u001b[39;00m:\n\u001b[0;32m    850\u001b[0m         columns \u001b[38;5;241m=\u001b[39m ensure_index(columns)\n\u001b[1;32m--> 851\u001b[0m     arrays, columns, index \u001b[38;5;241m=\u001b[39m nested_data_to_arrays(\n\u001b[0;32m    852\u001b[0m         \u001b[38;5;66;03m# error: Argument 3 to \"nested_data_to_arrays\" has incompatible\u001b[39;00m\n\u001b[0;32m    853\u001b[0m         \u001b[38;5;66;03m# type \"Optional[Collection[Any]]\"; expected \"Optional[Index]\"\u001b[39;00m\n\u001b[0;32m    854\u001b[0m         data,\n\u001b[0;32m    855\u001b[0m         columns,\n\u001b[0;32m    856\u001b[0m         index,  \u001b[38;5;66;03m# type: ignore[arg-type]\u001b[39;00m\n\u001b[0;32m    857\u001b[0m         dtype,\n\u001b[0;32m    858\u001b[0m     )\n\u001b[0;32m    859\u001b[0m     mgr \u001b[38;5;241m=\u001b[39m arrays_to_mgr(\n\u001b[0;32m    860\u001b[0m         arrays,\n\u001b[0;32m    861\u001b[0m         columns,\n\u001b[1;32m   (...)\u001b[0m\n\u001b[0;32m    864\u001b[0m         typ\u001b[38;5;241m=\u001b[39mmanager,\n\u001b[0;32m    865\u001b[0m     )\n\u001b[0;32m    866\u001b[0m \u001b[38;5;28;01melse\u001b[39;00m:\n",
      "File \u001b[1;32mc:\\Users\\Sara\\miniconda3\\envs\\ds\\Lib\\site-packages\\pandas\\core\\internals\\construction.py:520\u001b[0m, in \u001b[0;36mnested_data_to_arrays\u001b[1;34m(data, columns, index, dtype)\u001b[0m\n\u001b[0;32m    517\u001b[0m \u001b[38;5;28;01mif\u001b[39;00m is_named_tuple(data[\u001b[38;5;241m0\u001b[39m]) \u001b[38;5;129;01mand\u001b[39;00m columns \u001b[38;5;129;01mis\u001b[39;00m \u001b[38;5;28;01mNone\u001b[39;00m:\n\u001b[0;32m    518\u001b[0m     columns \u001b[38;5;241m=\u001b[39m ensure_index(data[\u001b[38;5;241m0\u001b[39m]\u001b[38;5;241m.\u001b[39m_fields)\n\u001b[1;32m--> 520\u001b[0m arrays, columns \u001b[38;5;241m=\u001b[39m to_arrays(data, columns, dtype\u001b[38;5;241m=\u001b[39mdtype)\n\u001b[0;32m    521\u001b[0m columns \u001b[38;5;241m=\u001b[39m ensure_index(columns)\n\u001b[0;32m    523\u001b[0m \u001b[38;5;28;01mif\u001b[39;00m index \u001b[38;5;129;01mis\u001b[39;00m \u001b[38;5;28;01mNone\u001b[39;00m:\n",
      "File \u001b[1;32mc:\\Users\\Sara\\miniconda3\\envs\\ds\\Lib\\site-packages\\pandas\\core\\internals\\construction.py:845\u001b[0m, in \u001b[0;36mto_arrays\u001b[1;34m(data, columns, dtype)\u001b[0m\n\u001b[0;32m    842\u001b[0m     data \u001b[38;5;241m=\u001b[39m [\u001b[38;5;28mtuple\u001b[39m(x) \u001b[38;5;28;01mfor\u001b[39;00m x \u001b[38;5;129;01min\u001b[39;00m data]\n\u001b[0;32m    843\u001b[0m     arr \u001b[38;5;241m=\u001b[39m _list_to_arrays(data)\n\u001b[1;32m--> 845\u001b[0m content, columns \u001b[38;5;241m=\u001b[39m _finalize_columns_and_data(arr, columns, dtype)\n\u001b[0;32m    846\u001b[0m \u001b[38;5;28;01mreturn\u001b[39;00m content, columns\n",
      "File \u001b[1;32mc:\\Users\\Sara\\miniconda3\\envs\\ds\\Lib\\site-packages\\pandas\\core\\internals\\construction.py:942\u001b[0m, in \u001b[0;36m_finalize_columns_and_data\u001b[1;34m(content, columns, dtype)\u001b[0m\n\u001b[0;32m    939\u001b[0m     columns \u001b[38;5;241m=\u001b[39m _validate_or_indexify_columns(contents, columns)\n\u001b[0;32m    940\u001b[0m \u001b[38;5;28;01mexcept\u001b[39;00m \u001b[38;5;167;01mAssertionError\u001b[39;00m \u001b[38;5;28;01mas\u001b[39;00m err:\n\u001b[0;32m    941\u001b[0m     \u001b[38;5;66;03m# GH#26429 do not raise user-facing AssertionError\u001b[39;00m\n\u001b[1;32m--> 942\u001b[0m     \u001b[38;5;28;01mraise\u001b[39;00m \u001b[38;5;167;01mValueError\u001b[39;00m(err) \u001b[38;5;28;01mfrom\u001b[39;00m \u001b[38;5;21;01merr\u001b[39;00m\n\u001b[0;32m    944\u001b[0m \u001b[38;5;28;01mif\u001b[39;00m \u001b[38;5;28mlen\u001b[39m(contents) \u001b[38;5;129;01mand\u001b[39;00m contents[\u001b[38;5;241m0\u001b[39m]\u001b[38;5;241m.\u001b[39mdtype \u001b[38;5;241m==\u001b[39m np\u001b[38;5;241m.\u001b[39mobject_:\n\u001b[0;32m    945\u001b[0m     contents \u001b[38;5;241m=\u001b[39m convert_object_array(contents, dtype\u001b[38;5;241m=\u001b[39mdtype)\n",
      "\u001b[1;31mValueError\u001b[0m: 1 columns passed, passed data had 2 columns"
     ]
    }
   ],
   "source": [
    "# TODO: Convert your list of tuples to a dataframe\n",
    "df = pd.DataFrame(..., columns=['...'])\n",
    "\n",
    "# TODO: Generate a visualization on this dataframe\n",
    "..."
   ]
  },
  {
   "cell_type": "markdown",
   "id": "ed35c985",
   "metadata": {},
   "source": [
    "### Question 3 : Most Frequent Country by Customer\n",
    "\n",
    "What is the most common country of origin in our Customers table? Sort your output in descending order.\n",
    "\n",
    "**Hint**: `GROUP BY` can be used to calculate grouped aggregates."
   ]
  },
  {
   "cell_type": "code",
   "execution_count": null,
   "id": "cc5f2ac6",
   "metadata": {},
   "outputs": [],
   "source": [
    "# TODO: Write a SQL query which will answer the question above.\n",
    "...\n",
    "\n",
    "# TODO: Fetch your list of tuples and print it out\n",
    "..."
   ]
  },
  {
   "cell_type": "code",
   "execution_count": null,
   "id": "b277ab0d",
   "metadata": {},
   "outputs": [],
   "source": [
    "# TODO: Convert your list of tuples to a dataframe\n",
    "df = pd.DataFrame(..., columns=['...'])\n",
    "\n",
    "# TODO: Generate a visualization on this dataframe\n",
    "..."
   ]
  },
  {
   "cell_type": "markdown",
   "id": "6ff142e3",
   "metadata": {},
   "source": [
    "### Question 4 : Least Popular Products by Quantity\n",
    "\n",
    "What are the least popular products by order quantity? Limit your output to the bottom 20 products. Sort this table in ascending order and be sure to include the product name in your output and visualizations.\n",
    "\n",
    "**Hint**: You will have to perform a join to calculate this answer."
   ]
  },
  {
   "cell_type": "code",
   "execution_count": null,
   "id": "0d6d187c",
   "metadata": {},
   "outputs": [],
   "source": [
    "# TODO: Write a SQL query which will answer the question above.\n",
    "...\n",
    "\n",
    "# TODO: Fetch your list of tuples and print it out\n",
    "..."
   ]
  },
  {
   "cell_type": "code",
   "execution_count": null,
   "id": "dea03e07",
   "metadata": {},
   "outputs": [],
   "source": [
    "# TODO: Convert your list of tuples to a dataframe\n",
    "...\n",
    "\n",
    "# TODO: Generate a visualization on this dataframe\n",
    "..."
   ]
  },
  {
   "cell_type": "markdown",
   "id": "faab5e1c",
   "metadata": {},
   "source": [
    "### Question 5 : Least Popular Products by Revenue\n",
    "\n",
    "What are the least popular products by **total revenue** (order quantity * price)? Sort this table in ascending order and be sure to include the product name in your output and visualizations.\n",
    "\n",
    "**Hint**: You will have to perform a join to calculate this answer."
   ]
  },
  {
   "cell_type": "code",
   "execution_count": null,
   "id": "2d84d2b4",
   "metadata": {},
   "outputs": [],
   "source": [
    "# TODO: Write a SQL query which will answer the question above.\n",
    "...\n",
    "\n",
    "# TODO: Fetch your list of tuples and print it out\n",
    "..."
   ]
  },
  {
   "cell_type": "code",
   "execution_count": null,
   "id": "d22296d4",
   "metadata": {},
   "outputs": [],
   "source": [
    "# TODO: Convert your list of tuples to a dataframe\n",
    "...\n",
    "\n",
    "# TODO: Generate a visualization on this dataframe\n",
    "..."
   ]
  },
  {
   "cell_type": "markdown",
   "id": "81d0606f",
   "metadata": {},
   "source": [
    "### Question 6 : Countries with the Most Orders\n",
    "\n",
    "Which country's have placed the most orders? For each country, list its' name in your output and visualizations.\n",
    "\n",
    "**Hint**: You will have to perform a join to calculate this answer."
   ]
  },
  {
   "cell_type": "code",
   "execution_count": null,
   "id": "548ba970",
   "metadata": {},
   "outputs": [],
   "source": [
    "# TODO: Write a SQL query which will answer the question above.\n",
    "...\n",
    "\n",
    "# TODO: Fetch your list of tuples and print it out\n",
    "..."
   ]
  },
  {
   "cell_type": "code",
   "execution_count": null,
   "id": "a825aa06",
   "metadata": {},
   "outputs": [],
   "source": [
    "# TODO: Convert your list of tuples to a dataframe\n",
    "...\n",
    "\n",
    "# TODO: Generate a visualization on this dataframe\n",
    "..."
   ]
  },
  {
   "cell_type": "markdown",
   "id": "72c9b165",
   "metadata": {},
   "source": [
    "### Question 7 : Countries with Customers Who Do Not Order\n",
    "\n",
    "Which countries have at least one customer who has placed **no** orders? Count up the total number of customers who have placed no orders for each respective country. For each country, list its' name in your output and visualizations.\n",
    "\n",
    "**Hint**: A join is necessary. We can also check if a column is `NULL` using the `IS` keyword."
   ]
  },
  {
   "cell_type": "code",
   "execution_count": null,
   "id": "ea327c53",
   "metadata": {},
   "outputs": [],
   "source": [
    "# TODO: Write a SQL query which will answer the question above.\n",
    "...\n",
    "\n",
    "# TODO: Fetch your list of tuples and print it out\n",
    "..."
   ]
  },
  {
   "cell_type": "code",
   "execution_count": null,
   "id": "ba356a26",
   "metadata": {},
   "outputs": [],
   "source": [
    "# TODO: Convert your list of tuples to a dataframe\n",
    "...\n",
    "\n",
    "# TODO: Generate a visualization on this dataframe\n",
    "..."
   ]
  },
  {
   "cell_type": "markdown",
   "id": "679892a1",
   "metadata": {},
   "source": [
    "### Question 8 : Most Popular Suppliers\n",
    "\n",
    "What are the most popular suppliers according to order count? List the supplier names and their number of orders. Sort your output in descending order.\n",
    "\n",
    "**Hint**: You might need to use a subquery to join more than 2 tables together."
   ]
  },
  {
   "cell_type": "code",
   "execution_count": null,
   "id": "0f834d94",
   "metadata": {},
   "outputs": [],
   "source": [
    "# TODO: Write a SQL query which will answer the question above.\n",
    "...\n",
    "\n",
    "# TODO: Fetch your list of tuples and print it out\n",
    "..."
   ]
  },
  {
   "cell_type": "code",
   "execution_count": null,
   "id": "95621abb",
   "metadata": {},
   "outputs": [],
   "source": [
    "# TODO: Convert your list of tuples to a dataframe\n",
    "...\n",
    "\n",
    "# TODO: Generate a visualization on this dataframe\n",
    "..."
   ]
  },
  {
   "cell_type": "markdown",
   "id": "1b48d365",
   "metadata": {},
   "source": [
    "## Report\n",
    "\n",
    "Answer the following analytical questions using numerical evidence."
   ]
  },
  {
   "cell_type": "markdown",
   "id": "8a98935f",
   "metadata": {},
   "source": [
    "### Question 1\n",
    "\n",
    "Which countries have the greatest number of customers? How does this correlate with the number of suppliers by country (i.e. do more customers lead to less or more suppliers)? Which evidence supports your answer?\n",
    "\n",
    "[Answer Here]"
   ]
  },
  {
   "cell_type": "markdown",
   "id": "1b5d6703",
   "metadata": {},
   "source": [
    "### Question 2\n",
    "\n",
    "What is the least popular product by order quantity? How does this correlate with revenue (i.e. do less popular products by quantity lead to less or more revenue)? Which evidence supports your answer?\n",
    "\n",
    "[Answer Here]"
   ]
  },
  {
   "cell_type": "markdown",
   "id": "29c46ddc",
   "metadata": {},
   "source": [
    "### Question 3\n",
    "\n",
    "Which country has the most orders? How does this correlate with the number of customers who do not order (i.e. do countries with more ordering customers have more or less non-ordering customers)? Which evidence supports your answer?\n",
    "\n",
    "[Answer Here]"
   ]
  },
  {
   "cell_type": "markdown",
   "id": "d3b8df87",
   "metadata": {},
   "source": [
    "### Question 4\n",
    "\n",
    "Which supplier has the most orders? Which evidence supports your answer?\n",
    "\n",
    "[Answer Here]"
   ]
  }
 ],
 "metadata": {
  "kernelspec": {
   "display_name": "ds",
   "language": "python",
   "name": "python3"
  },
  "language_info": {
   "codemirror_mode": {
    "name": "ipython",
    "version": 3
   },
   "file_extension": ".py",
   "mimetype": "text/x-python",
   "name": "python",
   "nbconvert_exporter": "python",
   "pygments_lexer": "ipython3",
   "version": "3.12.9"
  }
 },
 "nbformat": 4,
 "nbformat_minor": 5
}
